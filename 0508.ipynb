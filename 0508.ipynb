{
  "nbformat": 4,
  "nbformat_minor": 0,
  "metadata": {
    "colab": {
      "provenance": [],
      "authorship_tag": "ABX9TyMOejkda28dcPVyvfQFFTVI",
      "include_colab_link": true
    },
    "kernelspec": {
      "name": "python3",
      "display_name": "Python 3"
    },
    "language_info": {
      "name": "python"
    }
  },
  "cells": [
    {
      "cell_type": "markdown",
      "metadata": {
        "id": "view-in-github",
        "colab_type": "text"
      },
      "source": [
        "<a href=\"https://colab.research.google.com/github/hth0523/-/blob/main/0508.ipynb\" target=\"_parent\"><img src=\"https://colab.research.google.com/assets/colab-badge.svg\" alt=\"Open In Colab\"/></a>"
      ]
    },
    {
      "cell_type": "code",
      "execution_count": 1,
      "metadata": {
        "colab": {
          "base_uri": "https://localhost:8080/"
        },
        "id": "HGbrnVE4siuA",
        "outputId": "6e79e902-a61c-4dac-d881-57700fafd409"
      },
      "outputs": [
        {
          "output_type": "stream",
          "name": "stdout",
          "text": [
            "請輸入您的體溫：35\n",
            "體溫正常\n"
          ]
        }
      ],
      "source": [
        "temperature = float(input(\"請輸入您的體溫：\"))\n",
        "\n",
        "if temperature >= 37.5:\n",
        "    print(\"體溫過高\")\n",
        "elif 37.4 >= temperature >= 37:\n",
        "    print(\"體溫略高\")\n",
        "elif 34 <= temperature <= 36.9:\n",
        "    print(\"體溫正常\")\n",
        "else:\n",
        "    print(\"體溫異常，請重新量測\")"
      ]
    },
    {
      "cell_type": "code",
      "source": [
        "Score = float(input(\"請輸入您的成績：\"))\n",
        "\n",
        "if Score >= 90:\n",
        "    print(\"A\")\n",
        "elif 80 >= Score >= 89:\n",
        "    print(\"B\")\n",
        "elif 70 <= Score <= 79:\n",
        "    print(\"C\")\n",
        "elif 60 <= Score <= 69:\n",
        "    print(\"D\")\n",
        "else:\n",
        "    print(\"E\")"
      ],
      "metadata": {
        "colab": {
          "base_uri": "https://localhost:8080/"
        },
        "id": "TcJb0guksl17",
        "outputId": "0ec6c6d2-4609-4239-a36f-bf045df6f7f7"
      },
      "execution_count": 2,
      "outputs": [
        {
          "output_type": "stream",
          "name": "stdout",
          "text": [
            "請輸入您的成績：55\n",
            "E\n"
          ]
        }
      ]
    },
    {
      "cell_type": "code",
      "source": [
        "month = int(input(\"請輸入月份（1-12）：\"))\n",
        "\n",
        "if 3 <= month <= 5:\n",
        "    print(\"春季\")\n",
        "elif 6 <= month <= 8:\n",
        "    print(\"夏季\")\n",
        "elif 9 <= month <= 11:\n",
        "    print(\"秋季\")\n",
        "elif month == 12 or month <= 2:\n",
        "    print(\"冬季\")\n",
        "else:\n",
        "    print(\"請輸入正確的月份\")"
      ],
      "metadata": {
        "colab": {
          "base_uri": "https://localhost:8080/"
        },
        "id": "k9acqeRxtWBm",
        "outputId": "d10dd80d-69c1-4790-f957-7ee1e57bdc08"
      },
      "execution_count": 3,
      "outputs": [
        {
          "output_type": "stream",
          "name": "stdout",
          "text": [
            "請輸入月份（1-12）：1\n",
            "冬季\n"
          ]
        }
      ]
    },
    {
      "cell_type": "code",
      "source": [],
      "metadata": {
        "id": "PgtNGBTQt2S0"
      },
      "execution_count": 3,
      "outputs": []
    }
  ]
}